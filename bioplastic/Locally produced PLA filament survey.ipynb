{
 "cells": [
  {
   "cell_type": "markdown",
   "metadata": {},
   "source": [
    "# Background\n",
    "\n",
    "The purpose of the survey was to evaluate whether it was commercial interest in Norway for PLA 3d-printer filament that is locally produced. And whether people were interested in returning failed prints and other sources of PLA waste for recycling.\n",
    "\n",
    "This is evaluated in context of the long-term goal of establishing a financially sustainable circular lifecycle for PLA bioplastic.\n",
    "\n",
    "The survey was posted to two Norwegian Facebook groups focused on 3d-printing and 'making' on a Saturday in Feburary, 2018. Each group had approximately 1500 members. 120 reponses were collected over 2 weeks, approx 4% of the total 3000 group members (many which may not actually be active)."
   ]
  },
  {
   "cell_type": "code",
   "execution_count": 2,
   "metadata": {
    "collapsed": true
   },
   "outputs": [],
   "source": [
    "%matplotlib inline\n",
    "import pandas\n",
    "import numpy"
   ]
  },
  {
   "cell_type": "markdown",
   "metadata": {},
   "source": [
    "# Raw data"
   ]
  },
  {
   "cell_type": "code",
   "execution_count": 3,
   "metadata": {},
   "outputs": [
    {
     "name": "stdout",
     "output_type": "stream",
     "text": [
      "Responses: 121\n"
     ]
    },
    {
     "data": {
      "text/html": [
       "<div>\n",
       "<style scoped>\n",
       "    .dataframe tbody tr th:only-of-type {\n",
       "        vertical-align: middle;\n",
       "    }\n",
       "\n",
       "    .dataframe tbody tr th {\n",
       "        vertical-align: top;\n",
       "    }\n",
       "\n",
       "    .dataframe thead th {\n",
       "        text-align: right;\n",
       "    }\n",
       "</style>\n",
       "<table border=\"1\" class=\"dataframe\">\n",
       "  <thead>\n",
       "    <tr style=\"text-align: right;\">\n",
       "      <th></th>\n",
       "      <th>Timestamp</th>\n",
       "      <th>Hvor mange 3d-printere har du i aktiv bruk i dag?</th>\n",
       "      <th>Hvor mange kilo PLA filament kjøper du per år?</th>\n",
       "      <th>Hvilken diameter bruker du (mest)?</th>\n",
       "      <th>Hva er det meste du er villig til å betale for norskprodusert PLA filament?</th>\n",
       "      <th>Hvilke farger bruker du mest? (maks 3 valg)</th>\n",
       "      <th>Hvor mye PLA filament kan du levere til gjenvinning per år?</th>\n",
       "      <th>Vil du høre mer via epost når vi lanserer?</th>\n",
       "      <th>Har du noen tilbakemeldinger eller tips til oss?</th>\n",
       "      <th>Hvor i Norge bor du?</th>\n",
       "    </tr>\n",
       "  </thead>\n",
       "  <tbody>\n",
       "    <tr>\n",
       "      <th>0</th>\n",
       "      <td>2/17/2018 15:34:51</td>\n",
       "      <td>NaN</td>\n",
       "      <td>0</td>\n",
       "      <td>1.75 mm</td>\n",
       "      <td>mindre enn 300 kr/kg</td>\n",
       "      <td>Sort, Hvit, Klar</td>\n",
       "      <td>NaN</td>\n",
       "      <td>NaN</td>\n",
       "      <td>Nei</td>\n",
       "      <td>NaN</td>\n",
       "    </tr>\n",
       "    <tr>\n",
       "      <th>1</th>\n",
       "      <td>2/17/2018 16:20:34</td>\n",
       "      <td>2.0</td>\n",
       "      <td>10</td>\n",
       "      <td>1.75 mm</td>\n",
       "      <td>350 kr / kg</td>\n",
       "      <td>Sort, Hvit</td>\n",
       "      <td>2.0</td>\n",
       "      <td>NaN</td>\n",
       "      <td>NaN</td>\n",
       "      <td>NaN</td>\n",
       "    </tr>\n",
       "  </tbody>\n",
       "</table>\n",
       "</div>"
      ],
      "text/plain": [
       "            Timestamp  Hvor mange 3d-printere har du i aktiv bruk i dag?  \\\n",
       "0  2/17/2018 15:34:51                                                NaN   \n",
       "1  2/17/2018 16:20:34                                                2.0   \n",
       "\n",
       "   Hvor mange kilo PLA filament kjøper du per år?  \\\n",
       "0                                               0   \n",
       "1                                              10   \n",
       "\n",
       "  Hvilken diameter bruker du (mest)?  \\\n",
       "0                            1.75 mm   \n",
       "1                            1.75 mm   \n",
       "\n",
       "  Hva er det meste du er villig til å betale for norskprodusert PLA filament?  \\\n",
       "0                               mindre enn 300 kr/kg                            \n",
       "1                                        350 kr / kg                            \n",
       "\n",
       "  Hvilke farger bruker du mest? (maks 3 valg)  \\\n",
       "0                            Sort, Hvit, Klar   \n",
       "1                                  Sort, Hvit   \n",
       "\n",
       "   Hvor mye PLA filament kan du levere til gjenvinning per år?  \\\n",
       "0                                                NaN             \n",
       "1                                                2.0             \n",
       "\n",
       "   Vil du høre mer via epost når vi lanserer?  \\\n",
       "0                                         NaN   \n",
       "1                                         NaN   \n",
       "\n",
       "  Har du noen tilbakemeldinger eller tips til oss? Hvor i Norge bor du?  \n",
       "0                                              Nei                  NaN  \n",
       "1                                              NaN                  NaN  "
      ]
     },
     "execution_count": 3,
     "metadata": {},
     "output_type": "execute_result"
    }
   ],
   "source": [
    "raw = pandas.read_csv('./data/plafab-oslo-survey.anonymized.csv')\n",
    "print('Responses:', len(raw))\n",
    "raw[:2]"
   ]
  },
  {
   "cell_type": "markdown",
   "metadata": {},
   "source": [
    "# Data cleaning"
   ]
  },
  {
   "cell_type": "code",
   "execution_count": 4,
   "metadata": {},
   "outputs": [
    {
     "data": {
      "text/html": [
       "<div>\n",
       "<style scoped>\n",
       "    .dataframe tbody tr th:only-of-type {\n",
       "        vertical-align: middle;\n",
       "    }\n",
       "\n",
       "    .dataframe tbody tr th {\n",
       "        vertical-align: top;\n",
       "    }\n",
       "\n",
       "    .dataframe thead th {\n",
       "        text-align: right;\n",
       "    }\n",
       "</style>\n",
       "<table border=\"1\" class=\"dataframe\">\n",
       "  <thead>\n",
       "    <tr style=\"text-align: right;\">\n",
       "      <th></th>\n",
       "      <th>timestamp</th>\n",
       "      <th>printers</th>\n",
       "      <th>filament purchased</th>\n",
       "      <th>diameter used</th>\n",
       "      <th>price preference</th>\n",
       "      <th>colors used</th>\n",
       "      <th>filament for recycling</th>\n",
       "      <th>contact_email</th>\n",
       "      <th>feedback</th>\n",
       "      <th>location</th>\n",
       "    </tr>\n",
       "  </thead>\n",
       "  <tbody>\n",
       "    <tr>\n",
       "      <th>1</th>\n",
       "      <td>2/17/2018 16:20:34</td>\n",
       "      <td>2.0</td>\n",
       "      <td>10</td>\n",
       "      <td>1.75 mm</td>\n",
       "      <td>350 kr / kg</td>\n",
       "      <td>Sort, Hvit</td>\n",
       "      <td>2.0</td>\n",
       "      <td>NaN</td>\n",
       "      <td>NaN</td>\n",
       "      <td>NaN</td>\n",
       "    </tr>\n",
       "    <tr>\n",
       "      <th>2</th>\n",
       "      <td>2/17/2018 16:21:15</td>\n",
       "      <td>1.0</td>\n",
       "      <td>3</td>\n",
       "      <td>1.75 mm</td>\n",
       "      <td>400 kr / kg</td>\n",
       "      <td>Hvit, Grå, Grønn</td>\n",
       "      <td>2.0</td>\n",
       "      <td>NaN</td>\n",
       "      <td>NaN</td>\n",
       "      <td>NaN</td>\n",
       "    </tr>\n",
       "  </tbody>\n",
       "</table>\n",
       "</div>"
      ],
      "text/plain": [
       "            timestamp  printers  filament purchased diameter used  \\\n",
       "1  2/17/2018 16:20:34       2.0                  10       1.75 mm   \n",
       "2  2/17/2018 16:21:15       1.0                   3       1.75 mm   \n",
       "\n",
       "  price preference       colors used  filament for recycling  contact_email  \\\n",
       "1      350 kr / kg        Sort, Hvit                     2.0            NaN   \n",
       "2      400 kr / kg  Hvit, Grå, Grønn                     2.0            NaN   \n",
       "\n",
       "  feedback location  \n",
       "1      NaN      NaN  \n",
       "2      NaN      NaN  "
      ]
     },
     "execution_count": 4,
     "metadata": {},
     "output_type": "execute_result"
    }
   ],
   "source": [
    "field_name_map = {\n",
    "    'Hvor mange 3d-printere har du i aktiv bruk i dag?': 'printers', # currently active\n",
    "    'Hvor mange kilo PLA filament kjøper du per år?': 'filament purchased', # per year\n",
    "    'Hvilken diameter bruker du (mest)?': 'diameter used',\n",
    "    'Hva er det meste du er villig til å betale for norskprodusert PLA filament?': 'price preference',\n",
    "    'Hvilke farger bruker du mest? (maks 3 valg)': 'colors used',\n",
    "    'Hvor mye PLA filament kan du levere til gjenvinning per år?': 'filament for recycling', # i kilos\n",
    "    'Vil du høre mer via epost når vi lanserer?': 'contact_email',\n",
    "    'Har du noen tilbakemeldinger eller tips til oss?': 'feedback',\n",
    "    'Hvor i Norge bor du?': 'location',\n",
    "    'Timestamp': 'timestamp',\n",
    "}\n",
    "cleaned = raw.rename(columns=field_name_map)\n",
    "cleaned.drop(0, inplace=True) # submission test\n",
    "cleaned[:2]"
   ]
  },
  {
   "cell_type": "code",
   "execution_count": 5,
   "metadata": {},
   "outputs": [
    {
     "data": {
      "text/html": [
       "<div>\n",
       "<style scoped>\n",
       "    .dataframe tbody tr th:only-of-type {\n",
       "        vertical-align: middle;\n",
       "    }\n",
       "\n",
       "    .dataframe tbody tr th {\n",
       "        vertical-align: top;\n",
       "    }\n",
       "\n",
       "    .dataframe thead th {\n",
       "        text-align: right;\n",
       "    }\n",
       "</style>\n",
       "<table border=\"1\" class=\"dataframe\">\n",
       "  <thead>\n",
       "    <tr style=\"text-align: right;\">\n",
       "      <th></th>\n",
       "      <th>colors</th>\n",
       "    </tr>\n",
       "  </thead>\n",
       "  <tbody>\n",
       "    <tr>\n",
       "      <th>black</th>\n",
       "      <td>91</td>\n",
       "    </tr>\n",
       "    <tr>\n",
       "      <th>blue</th>\n",
       "      <td>31</td>\n",
       "    </tr>\n",
       "    <tr>\n",
       "      <th>gray</th>\n",
       "      <td>48</td>\n",
       "    </tr>\n",
       "    <tr>\n",
       "      <th>green</th>\n",
       "      <td>8</td>\n",
       "    </tr>\n",
       "    <tr>\n",
       "      <th>orange</th>\n",
       "      <td>4</td>\n",
       "    </tr>\n",
       "    <tr>\n",
       "      <th>other</th>\n",
       "      <td>4</td>\n",
       "    </tr>\n",
       "    <tr>\n",
       "      <th>red</th>\n",
       "      <td>28</td>\n",
       "    </tr>\n",
       "    <tr>\n",
       "      <th>transparent</th>\n",
       "      <td>2</td>\n",
       "    </tr>\n",
       "    <tr>\n",
       "      <th>white</th>\n",
       "      <td>82</td>\n",
       "    </tr>\n",
       "  </tbody>\n",
       "</table>\n",
       "</div>"
      ],
      "text/plain": [
       "             colors\n",
       "black            91\n",
       "blue             31\n",
       "gray             48\n",
       "green             8\n",
       "orange            4\n",
       "other             4\n",
       "red              28\n",
       "transparent       2\n",
       "white            82"
      ]
     },
     "execution_count": 5,
     "metadata": {},
     "output_type": "execute_result"
    }
   ],
   "source": [
    "color_name_map = {\n",
    "    'sort': 'black',\n",
    "    'hvit': 'white',\n",
    "    'grå': 'gray',\n",
    "    'grønn': 'green',\n",
    "    'rød': 'red',\n",
    "    'blå': 'blue',\n",
    "    'klar': 'transparent',\n",
    "    'transparent': 'transparent',\n",
    "    'oransje': 'orange',\n",
    "    'oransj': 'orange',\n",
    "    'orange': 'orange',\n",
    "}\n",
    "colors = {}\n",
    "for row in cleaned['colors used']:\n",
    "    used = row.split(',')\n",
    "    for c in used:\n",
    "        original = c.strip().lower()\n",
    "        mapped = color_name_map.get(original, \"other\")\n",
    "        #if mapped == 'other': print('unknown color:', original)\n",
    "        if colors.get(mapped) is None:\n",
    "            colors[mapped] = 0\n",
    "        colors[mapped] += 1\n",
    "colors = pandas.DataFrame({'colors': colors})\n",
    "colors"
   ]
  },
  {
   "cell_type": "code",
   "execution_count": 6,
   "metadata": {},
   "outputs": [
    {
     "data": {
      "text/plain": [
       "299 kr/kg or less    39\n",
       "300 kr / kg          38\n",
       "350 kr / kg          26\n",
       "400 kr / kg          12\n",
       "500 kr / kg           3\n",
       "501 kr/kg or more     1\n",
       "450 kr / kg           1\n",
       "Name: price preference, dtype: int64"
      ]
     },
     "execution_count": 6,
     "metadata": {},
     "output_type": "execute_result"
    }
   ],
   "source": [
    "preference_map = {\n",
    "    'mindre enn 300 kr/kg': '299 kr/kg or less',\n",
    "    'mer enn 500 kr/kg': '501 kr/kg or more',\n",
    "}\n",
    "cleaned['price preference'].replace(preference_map, inplace=True)\n",
    "cleaned['price preference'].value_counts()"
   ]
  },
  {
   "cell_type": "code",
   "execution_count": 7,
   "metadata": {},
   "outputs": [
    {
     "data": {
      "text/plain": [
       "1   2018-02-17 16:20:34\n",
       "2   2018-02-17 16:21:15\n",
       "Name: timestamp, dtype: datetime64[ns]"
      ]
     },
     "execution_count": 7,
     "metadata": {},
     "output_type": "execute_result"
    }
   ],
   "source": [
    "cleaned['timestamp'] = pandas.to_datetime(cleaned['timestamp'])\n",
    "cleaned['timestamp'][:2]"
   ]
  },
  {
   "cell_type": "markdown",
   "metadata": {},
   "source": [
    "# Analysis"
   ]
  },
  {
   "cell_type": "markdown",
   "metadata": {},
   "source": [
    "## Responses\n",
    "\n",
    "**50% left their email addresses** for further news/update about the project. This is a pretty strong indicator of interest in the project.\n",
    "\n",
    "Note: Raw data unavailable about who left email is unavailable, email was nulled for anonymization reasons."
   ]
  },
  {
   "cell_type": "code",
   "execution_count": 8,
   "metadata": {},
   "outputs": [
    {
     "data": {
      "image/png": "[encoded data removed]",
      "text/plain": [
       "<matplotlib.figure.Figure at 0x7f2d3c705978>"
      ]
     },
     "metadata": {},
     "output_type": "display_data"
    }
   ],
   "source": [
    "timed = cleaned.copy()\n",
    "timed.index = timed['timestamp']\n",
    "timed['printers'].resample('3h').count().plot(figsize=(12,6));"
   ]
  },
  {
   "cell_type": "markdown",
   "metadata": {},
   "source": [
    "Most responses were made immediately after posting. Over 50 responses of the 120 responses were made within the first 3 hours. This may be partly due to Facebook preference of giving visibility to very recent content.\n"
   ]
  },
  {
   "cell_type": "markdown",
   "metadata": {},
   "source": [
    "## Printers in use\n",
    "This question was included mostly to ensure that those that respond actually are potential customers."
   ]
  },
  {
   "cell_type": "code",
   "execution_count": 9,
   "metadata": {},
   "outputs": [
    {
     "data": {
      "text/plain": [
       "0.0     6\n",
       "1.0    65\n",
       "2.0    32\n",
       "3.0     9\n",
       "4.0     3\n",
       "5.0     1\n",
       "6.0     4\n",
       "Name: printers, dtype: int64"
      ]
     },
     "execution_count": 9,
     "metadata": {},
     "output_type": "execute_result"
    },
    {
     "data": {
      "image/png": "[encoded data removed]",
      "text/plain": [
       "<matplotlib.figure.Figure at 0x7f2d3a6df630>"
      ]
     },
     "metadata": {},
     "output_type": "display_data"
    }
   ],
   "source": [
    "printer_count = cleaned['printers'].value_counts().sort_index()\n",
    "printer_count.plot(kind='bar', figsize=(12,6))\n",
    "printer_count"
   ]
  },
  {
   "cell_type": "markdown",
   "metadata": {},
   "source": [
    "Majority of respondents have 1 printer in use. However over 40% have more than one."
   ]
  },
  {
   "cell_type": "markdown",
   "metadata": {},
   "source": [
    "## Filament purchase\n",
    "\n",
    "Per year\n"
   ]
  },
  {
   "cell_type": "code",
   "execution_count": 10,
   "metadata": {},
   "outputs": [
    {
     "data": {
      "text/plain": [
       "7.0"
      ]
     },
     "execution_count": 10,
     "metadata": {},
     "output_type": "execute_result"
    },
    {
     "data": {
      "image/png": "[encoded data removed]",
      "text/plain": [
       "<matplotlib.figure.Figure at 0x7f2d3a4c22e8>"
      ]
     },
     "metadata": {},
     "output_type": "display_data"
    }
   ],
   "source": [
    "filament_purchase_counts = cleaned['filament purchased'].value_counts().sort_index()\n",
    "filament_purchase_counts.plot(kind='bar', figsize=(12, 6), title='Filament purchased (kg per year)')\n",
    "filament_purchase_counts.median()"
   ]
  },
  {
   "cell_type": "markdown",
   "metadata": {},
   "source": [
    "A large amount of respondents say they buy more than 10kg/year, and the median is 7 kg/year."
   ]
  },
  {
   "cell_type": "code",
   "execution_count": 11,
   "metadata": {},
   "outputs": [
    {
     "data": {
      "text/plain": [
       "785"
      ]
     },
     "execution_count": 11,
     "metadata": {},
     "output_type": "execute_result"
    }
   ],
   "source": [
    "cleaned['filament purchased'].sum()"
   ]
  },
  {
   "cell_type": "markdown",
   "metadata": {},
   "source": [
    "Just by providing these 120 respondends with *parts* of their consumption can cover 100++ kg/yearly. With targeted marketing in the communities the survey was shared with, it could be possible to sell 1000 kg/yearly."
   ]
  },
  {
   "cell_type": "markdown",
   "metadata": {},
   "source": [
    "## Filament for recycling"
   ]
  },
  {
   "cell_type": "code",
   "execution_count": 15,
   "metadata": {},
   "outputs": [
    {
     "data": {
      "text/plain": [
       "5.5"
      ]
     },
     "execution_count": 15,
     "metadata": {},
     "output_type": "execute_result"
    },
    {
     "data": {
      "image/png": "[encoded data removed]",
      "text/plain": [
       "<matplotlib.figure.Figure at 0x7f2d3a3a41d0>"
      ]
     },
     "metadata": {},
     "output_type": "display_data"
    }
   ],
   "source": [
    "filament_recycle_counts = cleaned['filament for recycling'].value_counts().sort_index()\n",
    "filament_recycle_counts.plot(kind='bar', figsize=(12, 6), title='Filament for recyling (kg per year)')"
   ]
  },
  {
   "cell_type": "code",
   "execution_count": 19,
   "metadata": {},
   "outputs": [
    {
     "data": {
      "text/plain": [
       "265.0"
      ]
     },
     "execution_count": 19,
     "metadata": {},
     "output_type": "execute_result"
    }
   ],
   "source": [
    "cleaned['filament for recycling'].sum()"
   ]
  },
  {
   "cell_type": "markdown",
   "metadata": {},
   "source": [
    "The amount of filament people say they have for recycling is naturally significantly less than what they buy.\n",
    "\n",
    "Nevertheless, for these 120 respondents, the sum is estimated to nearly 300 kg. Assuming 300 NOK/kg for the filament purchase price, that is an economic waste of 80'000 NOK yearly."
   ]
  },
  {
   "cell_type": "markdown",
   "metadata": {},
   "source": [
    "## Color options\n"
   ]
  },
  {
   "cell_type": "code",
   "execution_count": 173,
   "metadata": {},
   "outputs": [
    {
     "data": {
      "image/png": "[encoded data removed]",
      "text/plain": [
       "<matplotlib.figure.Figure at 0x7fc4ea7f2470>"
      ]
     },
     "metadata": {},
     "output_type": "display_data"
    }
   ],
   "source": [
    "colors.sort_values(by='colors', ascending=False).plot(kind='bar', figsize=(10, 5));"
   ]
  },
  {
   "cell_type": "markdown",
   "metadata": {},
   "source": [
    "Most used are black,white and gray. It looks like one could do OK by offering just 2-3 filament colors."
   ]
  },
  {
   "cell_type": "markdown",
   "metadata": {},
   "source": [
    "## Diameter options\n"
   ]
  },
  {
   "cell_type": "code",
   "execution_count": 103,
   "metadata": {},
   "outputs": [
    {
     "data": {
      "text/plain": [
       "1.75 mm    0.925620\n",
       "2.85 mm    0.066116\n",
       "3.0 mm     0.008264\n",
       "Name: diameter used, dtype: float64"
      ]
     },
     "execution_count": 103,
     "metadata": {},
     "output_type": "execute_result"
    },
    {
     "data": {
      "image/png": "[encoded data removed]",
      "text/plain": [
       "<matplotlib.figure.Figure at 0x7fc4ead0bcf8>"
      ]
     },
     "metadata": {},
     "output_type": "display_data"
    }
   ],
   "source": [
    "cleaned['diameter used'].value_counts().plot(kind='pie', figsize=(8,8))\n",
    "cleaned['diameter used'].value_counts(normalize=True)"
   ]
  },
  {
   "cell_type": "markdown",
   "metadata": {},
   "source": [
    "Over 90% used 1.75 mm filament. It should be OK to only offer this variant."
   ]
  },
  {
   "cell_type": "markdown",
   "metadata": {},
   "source": [
    "# Price preference"
   ]
  },
  {
   "cell_type": "code",
   "execution_count": 108,
   "metadata": {},
   "outputs": [
    {
     "data": {
      "text/plain": [
       "299 kr/kg or less    0.330579\n",
       "300 kr / kg          0.314050\n",
       "350 kr / kg          0.214876\n",
       "400 kr / kg          0.099174\n",
       "500 kr / kg          0.024793\n",
       "501 kr/kg or more    0.008264\n",
       "450 kr / kg          0.008264\n",
       "Name: price preference, dtype: float64"
      ]
     },
     "execution_count": 108,
     "metadata": {},
     "output_type": "execute_result"
    },
    {
     "data": {
      "image/png": "[encoded data removed]",
      "text/plain": [
       "<matplotlib.figure.Figure at 0x7fc4eaa62630>"
      ]
     },
     "metadata": {},
     "output_type": "display_data"
    }
   ],
   "source": [
    "price_counts = cleaned['price preference'].value_counts().sort_index()\n",
    "price_counts.plot(kind='bar', figsize=(10,6))\n",
    "cleaned['price preference'].value_counts(normalize=True)"
   ]
  },
  {
   "cell_type": "markdown",
   "metadata": {
    "collapsed": true
   },
   "source": [
    "People have a **very strong preference for cheap filament**, with two thirds choosing the two lowest options.\n",
    "\n",
    "There is **no indication that people are willing to pay more for locally produced filament**."
   ]
  },
  {
   "cell_type": "markdown",
   "metadata": {},
   "source": [
    "# Conclusions\n",
    "\n",
    "The high amount of respondents, and high amount of filament purchased by respondents indicate it is possible to sell an amount of filament needed for a micro business (NNN-NNNN kilos/year).\n",
    "\n",
    "However there is no support for the thesis that consumers are willing to pay a premium for 'locally produced' (filament from raw pellets). This means that without other differentiation, one has to compete on price alone. As prices are likely to drop in the future, this seems a rather weak position. \n",
    "\n",
    "More data would be needed on the production side in order to determine whether there could be sufficient margin to operate. However the prices indicated here suggest a low margin.\n",
    "\n",
    "## Quality concerns\n",
    "\n",
    "The quality of product needed for 3d-printing filament is very high. Tolerances of diameter variation, foreign substances, plastic properties that stay over time (ex: low brittleness).\n",
    "\n",
    "Attempting to recyle material means trying to deliver needed quality from a material stream with many varying  parameters. One also needs to get the material to facilities. Without a price preference, all this must be should be achievable at prices comparable to that of pure PLA material, currently below 50 NOK/kg.\n",
    "\n",
    "So to enable a circular lifecycle with recycled inputs, it would be better to find less quality-critical uses for the plastic."
   ]
  },
  {
   "cell_type": "code",
   "execution_count": null,
   "metadata": {
    "collapsed": true
   },
   "outputs": [],
   "source": []
  }
 ],
 "metadata": {
  "kernelspec": {
   "display_name": "Python 3",
   "language": "python",
   "name": "python3"
  },
  "language_info": {
   "codemirror_mode": {
    "name": "ipython",
    "version": 3
   },
   "file_extension": ".py",
   "mimetype": "text/x-python",
   "name": "python",
   "nbconvert_exporter": "python",
   "pygments_lexer": "ipython3",
   "version": "3.6.4"
  }
 },
 "nbformat": 4,
 "nbformat_minor": 2
}
